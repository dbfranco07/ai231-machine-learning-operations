{
  "cells": [
    {
      "cell_type": "code",
      "execution_count": null,
      "id": "e09ee3a0",
      "metadata": {
        "id": "e09ee3a0"
      },
      "outputs": [],
      "source": [
        "import numpy as np\n",
        "import matplotlib.pyplot as plt\n",
        "\n",
        "import torch\n",
        "from torch import nn\n",
        "from torch.nn.utils import prune\n",
        "from torch.amp import autocast, GradScaler\n",
        "\n",
        "import torchvision\n",
        "from torchvision.datasets import ImageNet, CIFAR10\n",
        "from torchvision.models import resnet18, ResNet18_Weights\n",
        "from torchvision.transforms._presets import ImageClassification\n",
        "\n",
        "from pathlib import Path\n",
        "from tqdm.notebook import tqdm\n",
        "from einops import einsum, rearrange, reduce\n",
        "from typing import Union, Tuple, Any, Generator\n",
        "\n"
      ]
    },
    {
      "cell_type": "code",
      "source": [
        "device = torch.device('cuda' if torch.cuda.is_available() else 'cpu')\n",
        "device"
      ],
      "metadata": {
        "id": "xgQw8vmeYFr_"
      },
      "id": "xgQw8vmeYFr_",
      "execution_count": null,
      "outputs": []
    },
    {
      "cell_type": "code",
      "execution_count": null,
      "id": "3be15995",
      "metadata": {
        "id": "3be15995"
      },
      "outputs": [],
      "source": [
        "weights = ResNet18_Weights.IMAGENET1K_V1\n",
        "transforms = weights.transforms()\n",
        "transforms"
      ]
    },
    {
      "cell_type": "code",
      "execution_count": null,
      "id": "c3e7aaec",
      "metadata": {
        "id": "c3e7aaec"
      },
      "outputs": [],
      "source": [
        "model = resnet18(weights=weights)\n",
        "model"
      ]
    },
    {
      "cell_type": "code",
      "source": [
        "mode"
      ],
      "metadata": {
        "id": "yK58muNc4FIN"
      },
      "id": "yK58muNc4FIN",
      "execution_count": null,
      "outputs": []
    },
    {
      "cell_type": "code",
      "source": [
        "type(model)"
      ],
      "metadata": {
        "id": "LyfA_zPQ4SVg"
      },
      "id": "LyfA_zPQ4SVg",
      "execution_count": null,
      "outputs": []
    },
    {
      "cell_type": "code",
      "execution_count": null,
      "id": "2ce7f588",
      "metadata": {
        "id": "2ce7f588"
      },
      "outputs": [],
      "source": [
        "for layer_i, param in enumerate(model.parameters()):\n",
        "    print('Layer', layer_i, 'shape: \\n', param.shape,  '\\n')"
      ]
    },
    {
      "cell_type": "code",
      "execution_count": null,
      "id": "ccaeaed0",
      "metadata": {
        "id": "ccaeaed0"
      },
      "outputs": [],
      "source": [
        "BATCH_SIZE = 1024\n",
        "\n",
        "try:\n",
        "    from google.colab import drive\n",
        "    drive.mount('/content/drive')\n",
        "    datapath = Path().cwd() / 'drive' / 'MyDrive' / 'data'\n",
        "except:\n",
        "    datapath = Path().cwd() / 'data'\n",
        "finally:\n",
        "    print(f'Data from {datapath}')\n",
        "\n",
        "cifar10 = CIFAR10(\n",
        "    root=datapath,\n",
        "    train=False,\n",
        "    transform=transforms,\n",
        "    download=True\n",
        ")\n",
        "\n",
        "cifar10_test = CIFAR10(\n",
        "    root=datapath,\n",
        "    train=False,\n",
        "    transform=transforms,\n",
        "    download=True\n",
        ")\n",
        "\n",
        "dataloader = torch.utils.data.DataLoader(\n",
        "    cifar10,\n",
        "    batch_size=BATCH_SIZE,\n",
        "    shuffle=True\n",
        ")\n",
        "\n",
        "dataloader_test = torch.utils.data.DataLoader(\n",
        "    cifar10_test,\n",
        "    batch_size=BATCH_SIZE,\n",
        "    shuffle=False\n",
        ")\n"
      ]
    },
    {
      "cell_type": "code",
      "execution_count": null,
      "id": "59f02a27",
      "metadata": {
        "id": "59f02a27"
      },
      "outputs": [],
      "source": [
        "label_mapping = dict(enumerate(cifar10.classes))\n",
        "label_mapping"
      ]
    },
    {
      "cell_type": "code",
      "execution_count": null,
      "id": "d9fc9d68",
      "metadata": {
        "id": "d9fc9d68"
      },
      "outputs": [],
      "source": [
        "def visualize_normalized_image(image: torch.Tensor,\n",
        "                               transform: ImageClassification,\n",
        "                               batch_size: int) -> None:\n",
        "    \"\"\"\n",
        "    Combines a batch of images into 1 and plots them.\n",
        "    \"\"\"\n",
        "    assert isinstance(image, torch.Tensor), f'image type is {type(image)}'\n",
        "    assert batch_size % 2 == 0, f'uneven {batch_size}'\n",
        "\n",
        "    image = image.numpy()\n",
        "    std, mean = transform.std, transform.mean\n",
        "    std, mean = np.array(std), np.array(mean)\n",
        "\n",
        "    b1, b2 = batch_size//8, 8\n",
        "    image = einsum(image, std, 'b c h w, c -> b h w c') + mean\n",
        "    image = rearrange(image, '(b1 b2) h w c -> (b1 h) (b2 w) c', b1=b1, b2=b2)\n",
        "    image = np.clip(image, 0, 1)\n",
        "\n",
        "    plt.imshow(image)\n",
        "    plt.axis('off')\n",
        "    plt.show()\n",
        "\n",
        "    print('Shape: ', image.shape)"
      ]
    },
    {
      "cell_type": "code",
      "execution_count": null,
      "id": "53f0218c",
      "metadata": {
        "id": "53f0218c"
      },
      "outputs": [],
      "source": [
        "# n_of_batch_images_to_show = 4\n",
        "# current_label = None\n",
        "\n",
        "# for i, (image, label) in enumerate(dataloader):\n",
        "#     label0 = int(label[0])\n",
        "\n",
        "#     if label0 != current_label:\n",
        "#         visualize_normalized_image(image, transforms, 32)\n",
        "#         n_of_batch_images_to_show -= 1\n",
        "#         current_label = label0\n",
        "\n",
        "#     if n_of_batch_images_to_show == 0:\n",
        "#         break\n"
      ]
    },
    {
      "cell_type": "markdown",
      "source": [
        "Initial CIFAR10 Prediction without any"
      ],
      "metadata": {
        "id": "OVc95MRAaQ52"
      },
      "id": "OVc95MRAaQ52"
    },
    {
      "cell_type": "code",
      "source": [
        "def evaluate_model(model, dataloader, stop_at=None):\n",
        "    model = model.to(device)\n",
        "    model.eval()\n",
        "    total_correct = 0\n",
        "    total_samples = 0\n",
        "    i = 0\n",
        "\n",
        "    with torch.no_grad():\n",
        "        for images, labels in tqdm(dataloader_test):\n",
        "            images = images.to(device)\n",
        "            labels = labels.to(device)\n",
        "            outputs = model(images)\n",
        "            _, predicted = torch.max(outputs.data, 1)\n",
        "\n",
        "            total_samples += labels.size(0)\n",
        "            total_correct += (predicted == labels).sum().item()\n",
        "            i += 1\n",
        "            if stop_at:\n",
        "                if i >= stop_at:\n",
        "                    break\n",
        "\n",
        "        accuracy = total_correct / total_samples\n",
        "\n",
        "    return total_correct, total_samples, accuracy"
      ],
      "metadata": {
        "id": "d3eAnOmBcKSZ"
      },
      "id": "d3eAnOmBcKSZ",
      "execution_count": null,
      "outputs": []
    },
    {
      "cell_type": "code",
      "execution_count": null,
      "id": "2e0b9afb",
      "metadata": {
        "id": "2e0b9afb"
      },
      "outputs": [],
      "source": [
        "total_correct, total_samples, accuracy = evaluate_model(model, dataloader_test)"
      ]
    },
    {
      "cell_type": "code",
      "source": [
        "print(f'Total Correct: {total_correct}\\n')\n",
        "print(f'Total Samples: {total_samples}\\n')\n",
        "print(f'Accuraccy: {accuracy}\\n')"
      ],
      "metadata": {
        "id": "Hq9bvJmu65kE"
      },
      "id": "Hq9bvJmu65kE",
      "execution_count": null,
      "outputs": []
    },
    {
      "cell_type": "markdown",
      "source": [
        "# Model Modification"
      ],
      "metadata": {
        "id": "b9JGW11G5udy"
      },
      "id": "b9JGW11G5udy"
    },
    {
      "cell_type": "code",
      "source": [
        "model_fc_in = model.fc.in_features\n",
        "model_fc_out = len(label_mapping)\n",
        "\n",
        "model.fc = nn.Linear(model_fc_in, model_fc_out)"
      ],
      "metadata": {
        "id": "iHuVAKEobPzK"
      },
      "id": "iHuVAKEobPzK",
      "execution_count": null,
      "outputs": []
    },
    {
      "cell_type": "code",
      "source": [
        "for param in model.parameters():\n",
        "    param.requires_grad = False"
      ],
      "metadata": {
        "id": "Y-XAFlDxbS-X"
      },
      "id": "Y-XAFlDxbS-X",
      "execution_count": null,
      "outputs": []
    },
    {
      "cell_type": "code",
      "source": [
        "for param in model.fc.parameters():\n",
        "    param.requires_grad = True"
      ],
      "metadata": {
        "id": "zFcN_u7bok2z"
      },
      "id": "zFcN_u7bok2z",
      "execution_count": null,
      "outputs": []
    },
    {
      "cell_type": "code",
      "source": [
        "total_correct, total_samples, accuracy = evaluate_model(model, dataloader_test)"
      ],
      "metadata": {
        "id": "ryPJQfHDotra"
      },
      "id": "ryPJQfHDotra",
      "execution_count": null,
      "outputs": []
    },
    {
      "cell_type": "code",
      "source": [
        "print(f'Total Correct: {total_correct}\\n')\n",
        "print(f'Total Samples: {total_samples}\\n')\n",
        "print(f'Accuraccy: {accuracy}\\n')"
      ],
      "metadata": {
        "id": "aINnExy0pnQ5"
      },
      "id": "aINnExy0pnQ5",
      "execution_count": null,
      "outputs": []
    },
    {
      "cell_type": "code",
      "source": [
        "criterion = nn.CrossEntropyLoss()\n",
        "optimizer = torch.optim.Adam(model.fc.parameters(), lr=0.001)\n",
        "# scaler = GradScaler('cuda')"
      ],
      "metadata": {
        "id": "bcLTaDRgxjXe"
      },
      "id": "bcLTaDRgxjXe",
      "execution_count": null,
      "outputs": []
    },
    {
      "cell_type": "code",
      "source": [
        "def train_model(model, dataloader, loss, optimizer, num_epochs=10):\n",
        "    model = model.to(device)\n",
        "    model.train()\n",
        "\n",
        "    for epoch in tqdm(range(num_epochs)):\n",
        "        total_loss = 0\n",
        "\n",
        "        for images, labels in tqdm(dataloader):\n",
        "            optimizer.zero_grad()\n",
        "            images = images.to(device)\n",
        "            labels = labels.to(device)\n",
        "\n",
        "            with autocast(device_type=\"cuda\"):\n",
        "                outputs = model(images)\n",
        "                loss = criterion(outputs, labels)\n",
        "\n",
        "            # scaler.scale(loss).backward()\n",
        "            # scaler.step(optimizer)\n",
        "            # scaler.update()\n",
        "            loss.backward()\n",
        "            optimizer.step()\n",
        "\n",
        "            total_loss += loss.item()\n",
        "\n",
        "        avg_loss = total_loss / len(dataloader)\n",
        "        print(f'Epoch: {epoch + 1}, loss = {avg_loss:.4f}')\n"
      ],
      "metadata": {
        "id": "Y0tBjONnxTJa"
      },
      "id": "Y0tBjONnxTJa",
      "execution_count": null,
      "outputs": []
    },
    {
      "cell_type": "code",
      "source": [
        "train_model(model, dataloader, criterion, optimizer, num_epochs=10)"
      ],
      "metadata": {
        "id": "K9wu8wa83FIr"
      },
      "id": "K9wu8wa83FIr",
      "execution_count": null,
      "outputs": []
    },
    {
      "cell_type": "code",
      "source": [
        "evaluate_model(model, dataloader_test)"
      ],
      "metadata": {
        "id": "EghGISdK0T5I"
      },
      "id": "EghGISdK0T5I",
      "execution_count": null,
      "outputs": []
    },
    {
      "cell_type": "code",
      "source": [
        "prune.random_unstructured(model.fc, name='weight', amount=0.3)\n",
        "# prune.remove(model.fc, \"weight\")"
      ],
      "metadata": {
        "id": "6gZ-NCyCIfJ8"
      },
      "id": "6gZ-NCyCIfJ8",
      "execution_count": null,
      "outputs": []
    },
    {
      "cell_type": "code",
      "source": [
        "train_model(model, dataloader, criterion, optimizer, num_epochs=10)"
      ],
      "metadata": {
        "id": "WYJZPIhWKLLE"
      },
      "id": "WYJZPIhWKLLE",
      "execution_count": null,
      "outputs": []
    },
    {
      "cell_type": "code",
      "source": [
        "evaluate_model(model, dataloader_test)"
      ],
      "metadata": {
        "id": "FKibLGCtML2Y"
      },
      "id": "FKibLGCtML2Y",
      "execution_count": null,
      "outputs": []
    },
    {
      "cell_type": "code",
      "source": [
        "prune.random_unstructured(model.fc, name='weight', amount=0.3)"
      ],
      "metadata": {
        "id": "PBsxcWGtQ8eT"
      },
      "id": "PBsxcWGtQ8eT",
      "execution_count": null,
      "outputs": []
    },
    {
      "cell_type": "code",
      "source": [
        "train_model(model, dataloader, criterion, optimizer, num_epochs=10)"
      ],
      "metadata": {
        "id": "wrLDmP0XQ9d-"
      },
      "id": "wrLDmP0XQ9d-",
      "execution_count": null,
      "outputs": []
    },
    {
      "cell_type": "code",
      "source": [
        "evaluate_model(model, dataloader_test)"
      ],
      "metadata": {
        "id": "oyDyE_e2RAL9"
      },
      "id": "oyDyE_e2RAL9",
      "execution_count": null,
      "outputs": []
    },
    {
      "cell_type": "code",
      "source": [
        "model.fc.weight_mask.sum()"
      ],
      "metadata": {
        "id": "PlpoNw9pTcN6"
      },
      "id": "PlpoNw9pTcN6",
      "execution_count": null,
      "outputs": []
    }
  ],
  "metadata": {
    "kernelspec": {
      "display_name": "Python 3",
      "name": "python3"
    },
    "language_info": {
      "codemirror_mode": {
        "name": "ipython",
        "version": 3
      },
      "file_extension": ".py",
      "mimetype": "text/x-python",
      "name": "python",
      "nbconvert_exporter": "python",
      "pygments_lexer": "ipython3",
      "version": "3.11.0"
    },
    "colab": {
      "provenance": [],
      "gpuType": "T4"
    },
    "accelerator": "GPU"
  },
  "nbformat": 4,
  "nbformat_minor": 5
}